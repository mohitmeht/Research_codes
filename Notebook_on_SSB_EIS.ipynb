{
  "nbformat": 4,
  "nbformat_minor": 0,
  "metadata": {
    "colab": {
      "name": "Notebook_on_SSB_EIS.ipynb",
      "version": "0.3.2",
      "provenance": [],
      "private_outputs": true,
      "collapsed_sections": [],
      "include_colab_link": true
    },
    "kernelspec": {
      "name": "python3",
      "display_name": "Python 3"
    }
  },
  "cells": [
    {
      "cell_type": "markdown",
      "metadata": {
        "id": "view-in-github",
        "colab_type": "text"
      },
      "source": [
        "<a href=\"https://colab.research.google.com/github/mohitmeht/Research_codes/blob/master/Notebook_on_SSB_EIS.ipynb\" target=\"_parent\"><img src=\"https://colab.research.google.com/assets/colab-badge.svg\" alt=\"Open In Colab\"/></a>"
      ]
    },
    {
      "cell_type": "markdown",
      "metadata": {
        "id": "BNaKdXnLJ1ND",
        "colab_type": "text"
      },
      "source": [
        "### Writing the data\n",
        "\n",
        "The thickness of the space-charge layer: $\\kappa^{-1}=\\sqrt{\\frac{k_{B}T\\epsilon_{0}\\epsilon_{gb}}{2N_{A}e^{2}c_{gb}}}$. The area specific resistance of the grain is $R_{\\Omega}^g$. The site average net capacitance of the grain is $\\overline{c}_g$"
      ]
    },
    {
      "cell_type": "code",
      "metadata": {
        "id": "A4P9HiZcJqKC",
        "colab_type": "code",
        "colab": {}
      },
      "source": [
        "import scipy.constants as sciconst\n",
        "import numpy as np\n",
        "from numba import njit\n",
        "\n",
        "Vt = sciconst.k*300/sciconst.e # V\n",
        "cgb = 1000 # mol/cm3\n",
        "\n",
        "@njit(parallel=True,fastmath=True)\n",
        "def TheSiteDistribution(s=0,a=0.1):\n",
        "    gam = 1-a\n",
        "    num1 = 1\n",
        "    den1 = np.pi\n",
        "    brac1 = np.divide(num1,den1)\n",
        "    num2 = np.sin(a*np.pi)\n",
        "    den2 = np.exp(gam*s) + np.exp(-gam*s) - (2*np.cos(a*np.pi))\n",
        "    brac2 = np.divide(num2,den2)\n",
        "    Fs = np.multiply(brac1,brac2)\n",
        "    return Fs\n",
        "    \n",
        "@njit(fastmath=True)\n",
        "def Rg_ohm():  # ohm-cm2\n",
        "    return 2.\n",
        "\n",
        "@njit(fastmath=True)\n",
        "def cg_avg():  # F/cm2\n",
        "    return 0.2e-9 \n",
        "\n",
        "@njit(parallel=True,fastmath=True)\n",
        "def cg_s(s=0):  # F/cm2\n",
        "    return np.multiply(cg_avg(),np.exp(s))\n",
        "\n",
        "@njit(parallel=True,fastmath=True)\n",
        "def tau_grain_s(s=0):  # F/cm2\n",
        "    return np.multiply(Rg_ohm(),cg_s(s)) # Grain resistance and site dependent capacitance\n",
        "\n",
        "@njit(parallel=True,fastmath=True)\n",
        "def c_gb_H(epsi_gb_H,r_H):  # F/cm2\n",
        "    epsi_0 = sciconst.epsilon_0;\n",
        "    epsi   = np.multiply(epsi_0,epsi_gb_H)\n",
        "    cgbH   = np.divide(epsi,r_H)\n",
        "    return cgbH"
      ],
      "execution_count": 0,
      "outputs": []
    },
    {
      "cell_type": "markdown",
      "metadata": {
        "id": "mOlA8VhnJ-CR",
        "colab_type": "text"
      },
      "source": [
        "### Constants used in the article"
      ]
    },
    {
      "cell_type": "code",
      "metadata": {
        "id": "aPkPLaKHJ_14",
        "colab_type": "code",
        "colab": {}
      },
      "source": [
        "gamma = 0.5 # heterogeneous\n",
        "R_g_c = 183.5 # ohm-cm2 (222, 267)\n",
        "T = 298.15 # K\n",
        "tau_g_0 = 0.05e-6 #s\n",
        "Dgb = 1.3e-9 #cm2/s\n",
        "tau_gb_H = 1.2e-6 # s\n",
        "tau_gb_D = 0.1e-6 # s\n",
        "A0 = 1.1 # cm2\n",
        "gamma_gb = 0.6\n",
        "gamma_g = 0.85\n",
        "R_gb_c = 2400 #ohm-cm2\n",
        "sigma_g = 0.76e-3 # S/cm\n",
        "sigma_gb = 0.13e-3 # S/cm\n",
        "c_g = cg_avg() # F/cm2"
      ],
      "execution_count": 0,
      "outputs": []
    },
    {
      "cell_type": "markdown",
      "metadata": {
        "id": "S7Af5swXKC7C",
        "colab_type": "text"
      },
      "source": [
        "### The equations for a solid state electrolyte is given as\n",
        "\\begin{equation}\n",
        "Z_{SSE}(\\omega) = Z_{H}(\\omega) + Z_{G}^{gb}(\\omega) + R_{\\Omega}\n",
        "\\end{equation}\n",
        "where \\begin{equation}\n",
        "Z_{H} = \\frac{z_{H}}{A_{0}}\n",
        "\\end{equation} \n",
        ", and \n",
        "\\begin{equation}\n",
        "z_{H} = (\\bar{z}^{g} + z_{H}^{gb}).\n",
        "\\end{equation}\n",
        "\n",
        "$\\bar{z}^{g}$ is the average impedance of grain,\n",
        "\\begin{equation}\n",
        "\\bar{z}^{g}\\left(\\omega,\\tau^{0}_{c},\\tau^{g}_{c},\\gamma_{g},\\bar{c}_{g}\\right)=\\frac{\\tau_{g}^{0}/\\bar{c}_{g}}{1-\\left[1+\\tau_{g}^{0}/\\tau_{c}^{g}+\\left(j\\omega\\tau_{g}^{0}\\right)^{\\gamma_{g}}\\left(1+\\tau_{g}^{0}/\\tau_{c}^{g}\\right)^{1-\\gamma_{g}}\\right]^{-1}}\n",
        "\\end{equation}\n",
        "where $\\tau_{g}^{0}=R_{\\Omega}^{g}\\bar{c}_{g}$, $\\tau_{c}^{g}=R_{c}^{g}\\bar{c}_{g}$, and $z_{H}^{gb}$ is the impedance of the grain boundary, \n",
        "\n",
        "\\begin{equation}\n",
        "z_{H}^{gb}\\left(\\omega,\\tau_{H}^{gb},\\tau_{c}^{gb},\\gamma_{gb},c_{H}^{gb}\\right)=\\frac{\\tau_{H}^{gb}/c_{H}^{gb}}{1-\\left[1+\\tau_{H}^{gb}/\\tau_{c}^{gb}+\\left(j\\omega\\tau_{H}^{gb}\\right)^{\\gamma_{gb}}\\left(1+\\tau_{H}^{gb}/\\tau_{c}^{gb}\\right)^{\\left(1-\\gamma_{gb}\\right)}\\right]^{-1}}.\n",
        "\\end{equation}\n",
        "\n",
        "The compact layer at the grain-boundary is thick enough so that lithium ion concentration reaches bulk concentration (semi-infinite),\n",
        "\\begin{equation}\n",
        "Z_{G}^{gb}\\left(\\omega,\\tau_{D}^{gb},\\sigma_{gb},\\kappa_{gb},A_{0}\\right)=\\frac{1}{A_{0}\\sigma_{gb}\\kappa_{gb}\\sqrt{1 + j\\omega\\tau_{D}^{gb}}}\n",
        "\\end{equation}\n",
        "using \n",
        "\\begin{equation}\n",
        "Z_{0} = \\frac{D_{gb}}{\\sigma_{gb}}\n",
        "\\end{equation} \n",
        "the above equation can be rewritten as \n",
        "\\begin{equation}\n",
        "Z_{G}^{gb}\\left(\\omega\\right)=\\frac{Z_{0}}{A_{0}\\left(D_{gb}\\right)^{\\frac{1}{2}}\\sqrt{\\frac{1}{\\tau_{D}^{gb}}+j\\omega}}\n",
        "\\end{equation}"
      ]
    },
    {
      "cell_type": "markdown",
      "metadata": {
        "id": "eLTScHocKHWl",
        "colab_type": "text"
      },
      "source": [
        "#### The parameters needed for calculating the impedance of the grain ($\\bar{z}^{g}$) are $\\tau_{0}^{g}$, $\\bar{c}_{g}$, $\\tau_{c}^{g}$, $\\gamma^{g}$, and $\\omega$."
      ]
    },
    {
      "cell_type": "code",
      "metadata": {
        "id": "KNHK5m3QKJ1e",
        "colab_type": "code",
        "colab": {}
      },
      "source": [
        "@njit(parallel=True,fastmath=True)\n",
        "def z_g(tau_g_0,c_g,tau_g_c,gamma_g,w):\n",
        "    time_ratio_0_c = tau_g_0/tau_g_c\n",
        "    num = tau_g_0/c_g\n",
        "    den1 = 1\n",
        "    den21 = 1\n",
        "    den22 = time_ratio_0_c\n",
        "    den23a = np.power(1j*w*tau_g_0,gamma_g)\n",
        "    den23b = np.power(1+time_ratio_0_c,(1-gamma_g))\n",
        "    den23 = den23a*den23b\n",
        "    den2 = np.power(den21 + den22 + den23,-1)\n",
        "    den = den1 - den2\n",
        "    zg = np.divide(num,den)\n",
        "    return zg"
      ],
      "execution_count": 0,
      "outputs": []
    },
    {
      "cell_type": "markdown",
      "metadata": {
        "id": "cPc88g_sKMdj",
        "colab_type": "text"
      },
      "source": [
        "#### The parameters needed for calculating the impedance for lithium ions travelling through the compact layer ($z_{H}^{gb}$) are $\\tau_{H}^{gb}$, $c_{H}^{gb}$, $\\tau_{c}^{gb}$, $\\gamma^{gb}$, and $\\omega$."
      ]
    },
    {
      "cell_type": "code",
      "metadata": {
        "id": "t5KVZZ4gKRgu",
        "colab_type": "code",
        "colab": {}
      },
      "source": [
        "@njit(parallel=True,fastmath=True)\n",
        "def z_gb_H(tau_gb_H,c_gb_H,tau_gb_c,gamma_gb,w):\n",
        "    time_ratio_h_c = tau_gb_H/tau_gb_c\n",
        "    num = tau_gb_H/c_gb_H\n",
        "    den1 = 1\n",
        "    den21 = 1\n",
        "    den22 = time_ratio_h_c\n",
        "    den23a = np.power(1j*w*tau_gb_H,gamma_gb)\n",
        "    den23b = np.power((1+time_ratio_h_c),(1-gamma_gb))\n",
        "    den23 = den23a*den23b\n",
        "    den2 = np.power(den21 + den22 + den23,-1)\n",
        "    den = den1 - den2\n",
        "    zgbH = np.divide(num,den)\n",
        "    return zgbH"
      ],
      "execution_count": 0,
      "outputs": []
    },
    {
      "cell_type": "markdown",
      "metadata": {
        "id": "UIQ02ph6KVWW",
        "colab_type": "text"
      },
      "source": [
        "#### The parameters needed for calculating the impedance in the compact layer ($Z_{H}$) are $z_{H}^{gb}$, $\\bar{z}^{g}$, and $A_{0}$."
      ]
    },
    {
      "cell_type": "code",
      "metadata": {
        "id": "9mc4u-gGKWQg",
        "colab_type": "code",
        "colab": {}
      },
      "source": [
        "@njit(parallel=True,fastmath=True)\n",
        "def Z_H(zgbH,zg,A0):\n",
        "    z_H = zg + zgbH\n",
        "    ZH = z_H/A0\n",
        "    return ZH"
      ],
      "execution_count": 0,
      "outputs": []
    },
    {
      "cell_type": "markdown",
      "metadata": {
        "id": "wQUm9MfLKYJg",
        "colab_type": "text"
      },
      "source": [
        "#### The parameters needed to model impedance from grain and grain boundary ($Z_{G}^{gb}\\left(\\omega\\right)$) are $D_{gb}$, $\\sigma_{gb}$, $A_0$, $\\tau_{D}^{gb}$, and $\\omega$"
      ]
    },
    {
      "cell_type": "code",
      "metadata": {
        "id": "6A8GS_X6KaJy",
        "colab_type": "code",
        "colab": {}
      },
      "source": [
        "@njit(parallel=True,fastmath=True)\n",
        "def Z_gb_G(D_gb,sigma_gb,A0,tau_gb_D,w):\n",
        "    Z0 = np.divide(D_gb,sigma_gb)\n",
        "    num = Z0\n",
        "    den1 = np.multiply(A0,np.sqrt(D_gb))\n",
        "    den2a = np.divide(1.,tau_gb_D)\n",
        "    den2b = np.multiply(1.0j,w)\n",
        "    den2ab = den2a + den2b\n",
        "    den2 = np.sqrt(den2ab)\n",
        "    den = np.multiply(den1,den2)\n",
        "    ZgbG = np.divide(num,den)\n",
        "    return ZgbG"
      ],
      "execution_count": 0,
      "outputs": []
    },
    {
      "cell_type": "markdown",
      "metadata": {
        "id": "J22Iku71Kb0g",
        "colab_type": "text"
      },
      "source": [
        "#### The total impedance becomes $Z_{SSE}=Z_{H}\\left(\\omega\\right)+Z_{G}^{gb}\\left(\\omega\\right)+R_{\\Omega}$\n",
        "\n",
        "The authors assumed $R_{\\Omega} = 0$"
      ]
    },
    {
      "cell_type": "code",
      "metadata": {
        "id": "dXAdf3_tKd4x",
        "colab_type": "code",
        "colab": {}
      },
      "source": [
        "@njit(parallel=True,fastmath=True)\n",
        "def Z_SSE(ZH,ZgbG,Romega=0):\n",
        "    ZSSE = ZH + ZgbG + Romega\n",
        "    return ZSSE"
      ],
      "execution_count": 0,
      "outputs": []
    },
    {
      "cell_type": "code",
      "metadata": {
        "id": "NXiYSiiir7PR",
        "colab_type": "code",
        "colab": {}
      },
      "source": [
        "@njit(parallel=True,fastmath=True)\n",
        "def Z_SSE_ref(A0,tau_g_0,c_g,tau_g_c,gamma_g,tau_gb_H,c_gb_H,tau_gb_c,gamma_gb,D_gb,sigma_gb,tau_gb_D,w):\n",
        "    ZH = Z_H(A0,tau_g_0,c_g,tau_g_c,gamma_g,tau_gb_H,c_gb_H,tau_gb_c,gamma_gb,w)\n",
        "    ZgbG = Z_gb_G(D_gb,sigma_gb,A0,tau_gb_D,w)\n",
        "    Romega = 0\n",
        "    ZSSE = ZH + ZgbG + Romega\n",
        "    return ZSSE"
      ],
      "execution_count": 0,
      "outputs": []
    },
    {
      "cell_type": "markdown",
      "metadata": {
        "id": "fH-zdrlzKfTf",
        "colab_type": "text"
      },
      "source": [
        "#### The frequency ranges used to match experiments from 1Hz-1MHz"
      ]
    },
    {
      "cell_type": "code",
      "metadata": {
        "id": "lKeD3iTxKixy",
        "colab_type": "code",
        "colab": {}
      },
      "source": [
        "f = np.logspace(-3,6,100) # in Hertz"
      ],
      "execution_count": 0,
      "outputs": []
    },
    {
      "cell_type": "markdown",
      "metadata": {
        "id": "6zVhOqnMKlOd",
        "colab_type": "text"
      },
      "source": [
        "#### Converting linear frequency to angular frequency"
      ]
    },
    {
      "cell_type": "code",
      "metadata": {
        "id": "4apQZIYRKlmc",
        "colab_type": "code",
        "colab": {}
      },
      "source": [
        "w = 2*np.pi*f # in radians"
      ],
      "execution_count": 0,
      "outputs": []
    },
    {
      "cell_type": "markdown",
      "metadata": {
        "id": "QW1XYnwbKqMb",
        "colab_type": "text"
      },
      "source": [
        "### Reproducing Figure 5 from Rama Kant's paper. The values used to create the plot are\n",
        "\\begin{align}\n",
        "R_{c}^{g} &= 183.5\\textrm{ }\\Omega\\textrm{cm}^2\\\\\n",
        "T &= 298.15\\textrm{ K} \\\\\n",
        "\\tau^{0}_{g} &= 0.05 \\textrm{ }\\mu\\textrm{s}\\\\\n",
        "D_{gb} &= 1.3\\times 10^{-9} \\textrm{ cm}^2/\\textrm{s}\\\\\n",
        "\\tau_{H}^{gb} &= 1.2 \\textrm{ }\\mu\\textrm{s}\\\\\n",
        "\\tau_{D}^{gb} &=  0.1 \\textrm{ }\\mu\\textrm{s}\\\\\n",
        "A_{0} &= 1.1 \\textrm{ cm}^2\\\\\n",
        "\\gamma_{gb} &=  0.6 \\\\ \n",
        "\\gamma_{g} &= 0.85\\\\\n",
        "R_{c}^{gb} &=2400\\textrm{ }\\Omega\\textrm{cm}^2\\\\\n",
        "\\sigma_{g} &= 0.76\\textrm{ mS/cm}\\\\\n",
        "\\sigma_{gb} &= 0.13\\textrm{ mS/cm}\n",
        "\\end{align}"
      ]
    },
    {
      "cell_type": "code",
      "metadata": {
        "id": "idvWI20RGVFb",
        "colab_type": "code",
        "colab": {}
      },
      "source": [
        "R_g_c     = 183.5 # ohm-cm2\n",
        "T         = 298.15 # K\n",
        "tau_g_0   = 0.05e-6 #s\n",
        "D_gb      = 1.3e-9 # cm2/s\n",
        "tau_gb_H  = 1.2e-6 #s\n",
        "tau_gb_D  = 0.1e-6 #s\n",
        "A0        = 1.1 # cm2\n",
        "gamma_gb  = 0.6\n",
        "gamma_g   = 0.85 \n",
        "R_gb_c    = 2400 # ohm-cm2\n",
        "sigma_g   = 0.76e-3 #S/cm\n",
        "sigma_gb  = 0.13e-3 #S/cm"
      ],
      "execution_count": 0,
      "outputs": []
    },
    {
      "cell_type": "markdown",
      "metadata": {
        "id": "CAm6noziGZbp",
        "colab_type": "text"
      },
      "source": [
        "### The other parameters the authors might have used,  \n",
        "\\begin{align}\n",
        "c_{H}^{gb} &= 1\\textrm{ }\\mu\\textrm{F/cm}^2\\\\\n",
        "\\epsilon_{H}^{gb} &=  2\\\\\n",
        "R_{\\Omega}^{g} &=2\\textrm{ }\\Omega\\textrm{cm}^2\\\\\n",
        "\\bar{c}_{g} &=0.2 \\textrm{ nF/cm}^2\\\\\n",
        "c_{\\textrm{Li}}& = 1\\textrm{ M}\n",
        "\\end{align}"
      ]
    },
    {
      "cell_type": "code",
      "metadata": {
        "id": "P3xVJNfuKp4k",
        "colab_type": "code",
        "colab": {}
      },
      "source": [
        "c_gb_H    = 1e-6 #F/cm2\n",
        "c_g       = 0.2e-9 #F/cm2\n",
        "tau_gb_c  = R_gb_c*c_gb_H\n",
        "tau_g_c   = R_g_c*c_g"
      ],
      "execution_count": 0,
      "outputs": []
    },
    {
      "cell_type": "markdown",
      "metadata": {
        "id": "ahwsEqfcpDX_",
        "colab_type": "text"
      },
      "source": [
        "## Computing all impedances"
      ]
    },
    {
      "cell_type": "code",
      "metadata": {
        "id": "CtoZM4poKuqU",
        "colab_type": "code",
        "colab": {}
      },
      "source": [
        "zg = z_g(tau_g_0,c_g,tau_g_c,gamma_g,w)"
      ],
      "execution_count": 0,
      "outputs": []
    },
    {
      "cell_type": "code",
      "metadata": {
        "id": "nV8QHyYlCik_",
        "colab_type": "code",
        "colab": {}
      },
      "source": [
        "zgbH = z_gb_H(tau_gb_H,c_gb_H,tau_gb_c,gamma_gb,w)"
      ],
      "execution_count": 0,
      "outputs": []
    },
    {
      "cell_type": "code",
      "metadata": {
        "id": "u3tqB9FvCiYi",
        "colab_type": "code",
        "colab": {}
      },
      "source": [
        "ZH = Z_H(zgbH,zg,A0)"
      ],
      "execution_count": 0,
      "outputs": []
    },
    {
      "cell_type": "code",
      "metadata": {
        "id": "LV79VhfxChiT",
        "colab_type": "code",
        "colab": {}
      },
      "source": [
        "ZgbG = Z_gb_G(D_gb,sigma_gb,A0,tau_gb_D,w)"
      ],
      "execution_count": 0,
      "outputs": []
    },
    {
      "cell_type": "code",
      "metadata": {
        "id": "7dAgM_knCmGm",
        "colab_type": "code",
        "colab": {}
      },
      "source": [
        "ZSSE = Z_SSE(ZH,ZgbG)"
      ],
      "execution_count": 0,
      "outputs": []
    },
    {
      "cell_type": "markdown",
      "metadata": {
        "id": "E4Ic7qG1pH8J",
        "colab_type": "text"
      },
      "source": [
        "### Dataframe used to collect all the relavent data"
      ]
    },
    {
      "cell_type": "code",
      "metadata": {
        "id": "v8vhpJGzpNfN",
        "colab_type": "code",
        "colab": {}
      },
      "source": [
        "import pandas as pd\n",
        "df = pd.DataFrame()\n",
        "df['f'] = f\n",
        "df['zg'] = zg\n",
        "df['zgbH'] = zgbH\n",
        "df['ZH'] = ZH\n",
        "df['ZgbG'] = ZgbG\n",
        "df['ZSSE'] = ZSSE"
      ],
      "execution_count": 0,
      "outputs": []
    },
    {
      "cell_type": "code",
      "metadata": {
        "id": "Bk7X8cKavZ-o",
        "colab_type": "code",
        "colab": {}
      },
      "source": [
        "import matplotlib.pyplot as plt\n",
        "%matplotlib inline\n",
        "plt.plot(np.real(ZSSE),-np.imag(ZSSE),'-')\n",
        "realZSSE = np.real(ZSSE)\n",
        "imagZSSE = -np.imag(ZSSE)"
      ],
      "execution_count": 0,
      "outputs": []
    },
    {
      "cell_type": "code",
      "metadata": {
        "id": "R65MsqjtKwTG",
        "colab_type": "code",
        "colab": {}
      },
      "source": [
        "fig1 = plt.figure(num=1,figsize=[3,3],facecolor=None,edgecolor=None,dpi=150)\n",
        "ax1 = fig1.add_subplot(111)\n",
        "ax1.set_facecolor('None')\n",
        "ax1.set_xlabel('$\\omega$ [s$^{-1}$]')\n",
        "ax1.set_ylabel('|Z($\\omega$)|')  \n",
        "ax1.semilogx(w,np.abs(ZSSE),color='tab:blue')\n",
        "ax2 = ax1.twinx()\n",
        "ax2.semilogx(w,-np.angle(ZSSE,deg=True),color='tab:red')\n",
        "ax2.set_ylabel('$\\Phi$ [degree]') \n",
        "plt.show()"
      ],
      "execution_count": 0,
      "outputs": []
    },
    {
      "cell_type": "code",
      "metadata": {
        "id": "rrtl9Z3hy_l8",
        "colab_type": "code",
        "colab": {}
      },
      "source": [
        "zg = z_g(tau_g_0,c_g,tau_g_c,gamma_g,w)\n",
        "plt.loglog(f,np.abs(zg));"
      ],
      "execution_count": 0,
      "outputs": []
    },
    {
      "cell_type": "markdown",
      "metadata": {
        "id": "X9m0VhtYdBy2",
        "colab_type": "text"
      },
      "source": [
        "### Testing the response of grain impedance from the model"
      ]
    },
    {
      "cell_type": "code",
      "metadata": {
        "id": "5sjznUAXdVZ1",
        "colab_type": "code",
        "colab": {}
      },
      "source": [
        "plotval = zg\n",
        "color = 'tab:red'\n",
        "fig, ax1 = plt.subplots()\n",
        "ax1.set_xlabel('Frequency [Hz]')\n",
        "ax1.set_ylabel('log|Z($\\omega$)|')  \n",
        "ax1.plot(np.log10(w),np.log10(np.abs(plotval)))\n",
        "ax1.set_ylim(1.4,3.6)\n",
        "ax2 = ax1.twinx()\n",
        "ax2.plot(np.log10(w),-np.angle(plotval,deg=True),color=color)\n",
        "ax2.set_ylabel('$\\Phi$ [degree]') \n",
        "plt.show()"
      ],
      "execution_count": 0,
      "outputs": []
    },
    {
      "cell_type": "code",
      "metadata": {
        "id": "eyGh8FE2j4uz",
        "colab_type": "code",
        "colab": {}
      },
      "source": [
        "plotted_tau_g_0 = tau_g_0\n",
        "plotted_c_g = c_g\n",
        "plotval = z_g(plotted_tau_g_0,plotted_c_g,tau_g_c,gamma_g,w)\n",
        "fig1 = plt.figure(num=1,figsize=[3,3],facecolor=None,edgecolor=None,dpi=150)\n",
        "ax1 = fig1.add_subplot(111)\n",
        "ax1.set_facecolor('None')\n",
        "ax1.plot(np.log10(w),np.log10(np.abs(plotval)),color='tab:cyan',alpha=0.7)\n",
        "ax1.set_xlabel('log($\\omega$) [Hz]')\n",
        "ax1.set_ylabel('log|Z($\\omega$)|')  \n",
        "ax1.set_ylim(1.4,3.6)\n",
        "ax1.set_yticks([1.5,2,2.5,3,3.5])\n",
        "ax1.minorticks_on()\n",
        "ax1.tick_params(axis='both',direction='in',which='both')\n",
        "ax2 = ax1.twinx()\n",
        "ax2.plot(np.log10(w),-np.angle(plotval,deg=True),color='tab:red')\n",
        "ax2.set_ylim(-1,55);"
      ],
      "execution_count": 0,
      "outputs": []
    }
  ]
}