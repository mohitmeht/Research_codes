{
  "nbformat": 4,
  "nbformat_minor": 0,
  "metadata": {
    "colab": {
      "name": "Simulating_voltage_response_in_Li-air.ipynb",
      "version": "0.3.2",
      "provenance": [],
      "collapsed_sections": [],
      "include_colab_link": true
    },
    "kernelspec": {
      "name": "python3",
      "display_name": "Python 3"
    }
  },
  "cells": [
    {
      "cell_type": "markdown",
      "metadata": {
        "id": "view-in-github",
        "colab_type": "text"
      },
      "source": [
        "<a href=\"https://colab.research.google.com/github/mohitmeht/Research_codes/blob/master/Simulating_voltage_response_in_Li_air.ipynb\" target=\"_parent\"><img src=\"https://colab.research.google.com/assets/colab-badge.svg\" alt=\"Open In Colab\"/></a>"
      ]
    },
    {
      "cell_type": "markdown",
      "metadata": {
        "id": "8u7CWJqPRIag",
        "colab_type": "text"
      },
      "source": [
        "Plotting polarization curve using Prof. Petru Andrei's equation as discussed in (Mehta, Bevara, and Andrei, “Maximum Theoretical Power Density of Lithium–Air Batteries with Mixed Electrolyte.”) "
      ]
    },
    {
      "cell_type": "markdown",
      "metadata": {
        "id": "GDLWJm3nXbhr",
        "colab_type": "text"
      },
      "source": [
        "# Import libraries"
      ]
    },
    {
      "cell_type": "code",
      "metadata": {
        "id": "aABkuV08Xf1e",
        "colab_type": "code",
        "colab": {}
      },
      "source": [
        "import scipy.constants as sciconst\n",
        "import numpy as np\n",
        "import matplotlib.pylab as plt\n",
        "from numba import jit,njit,vectorize\n",
        "from scipy.optimize import fsolve\n"
      ],
      "execution_count": 0,
      "outputs": []
    },
    {
      "cell_type": "markdown",
      "metadata": {
        "id": "ZkjFBdODdAMd",
        "colab_type": "text"
      },
      "source": [
        "## Compute thermal voltage"
      ]
    },
    {
      "cell_type": "code",
      "metadata": {
        "id": "5ldAFxLQYBXd",
        "colab_type": "code",
        "colab": {}
      },
      "source": [
        "@jit(parallel=True,fastmath=True)\n",
        "def Vt(T=300):\n",
        "  kb = (sciconst.physical_constants['Boltzmann constant'])[0]\n",
        "  eV = (sciconst.physical_constants['electron volt'])[0]\n",
        "  kb_div_eV = np.divide(kb,eV) \n",
        "  ThermalVoltage = np.multiply(T,kb_div_eV)\n",
        "  return ThermalVoltage"
      ],
      "execution_count": 0,
      "outputs": []
    },
    {
      "cell_type": "markdown",
      "metadata": {
        "id": "GgfBWItEdD9U",
        "colab_type": "text"
      },
      "source": [
        "## Compute $\\lambda$ from the paper\n",
        "\\begin{equation}\n",
        "\\lambda = \\tanh^{-1}\\left(\\frac{a}{b}\\right)\n",
        "\\end{equation}\n",
        "Diffusion length ($\\lambda$) is based on Petru's theory to compute the electrochemical impedance spectra in Li-air/O$_2$ batteries. \n",
        "This function return a value, lambda.\n",
        "$\\lambda^2 = \\frac{D_\\textrm{eff}}{k}$ is in cm.\n",
        "\n",
        "\\begin{equation}\n",
        "\\lambda I_F= nFAD_\\textrm{eff}c_{o_2}\\tanh\\left(\\frac{l}{\\lambda}\\right)\n",
        "\\end{equation} or \n",
        "\\begin{equation}\n",
        "j_F \\lambda= nF*D_\\textrm{eff}c_{o_2}\\tanh\\left(\\frac{l}{\\lambda}\\right)\n",
        "\\end{equation}\n",
        "where, \n",
        "\n",
        "$n$ is the number of charge transfer electrons, \n",
        "\n",
        "$F_\\textrm{const}$ is the Faradaic constant in C/mol,\n",
        "\n",
        "$A$ is the cross sectional area of the cathode  in cm$^2$ (removed when using current density and not current),\n",
        "\n",
        "$D\\textrm{eff}$ is the effective oxygen diffusion coefficient in the organic electrolyte in cm$^2$/s,\n",
        "\n",
        "$L_c$ = Length of the cathode in cm,\n",
        "\n",
        "$j_{dis}$ is the value of the dc discharge current density in A/cm$^2$,\n",
        "\n",
        "$f$ is the function used to solve the non-linear equation using a numerical receipe to find the diffusion length ($\\lambda$),\n",
        "\n",
        "$c_\\textrm{int}$ is the inital concentration of oxygen dissolved in the electrolyte in mol/cm$^3$.\n",
        "\n",
        "The diffusion length is required to compute the voltage drop due to oxygen concentration polarization."
      ]
    },
    {
      "cell_type": "code",
      "metadata": {
        "id": "fvby6BJih6f5",
        "colab_type": "code",
        "colab": {}
      },
      "source": [
        "# % [ lamad ] = petru_equation_current_density(n,F_const,A,Deff,c_int,Lc,j_dis);\n",
        "# [ lamad ] = petru_equation_current_density(n,F_const,A,Deff,c_int,Lc,j_dis);\n",
        "# x0 = -ones(size(j_dis));  % Make a starting guess at the solution\n",
        "\n",
        "@jit(parallel=True,fastmath=True)\n",
        "def f(x,n,F,Deff,c_int,Lc,j_dis):\n",
        "  Fa_const = n*F*A*Deff*c_int\n",
        "  tanh_func = np.tanh(np.divide(Lc,x))\n",
        "  Fa = np.multiply(Fa_const,tanh_func)\n",
        "  Fb = np.multiply(j_dis,x)\n",
        "  # print(\"{}\\n{}\\n{}\\n{}\\n{}\\n{}\\n{}\".format(n,F,A,Deff,c_int,l,I_dis))\n",
        "  return np.subtract(Fa,Fb) #F = (n.*F_const.*A.*Deff.*c_int.*tanh(Lc./x))-(j_dis.*x));\n",
        "\n",
        "@jit(parallel=True,fastmath=True)\n",
        "def petru_equation(n,F,A,Deff,c_int,l,I_dis):\n",
        "  x0 = -1*np.ones_like(I_dis)\n",
        "  jdis = np.divide(I_dis,A)\n",
        "  lam = fsolve(f,x0,args=(n,F,Deff,c_int,l,jdis))\n",
        "  return lam"
      ],
      "execution_count": 0,
      "outputs": []
    },
    {
      "cell_type": "markdown",
      "metadata": {
        "id": "_Tgk_cO2Wyrr",
        "colab_type": "text"
      },
      "source": [
        "## Constants"
      ]
    },
    {
      "cell_type": "code",
      "metadata": {
        "id": "J-rLZERfRGa1",
        "colab_type": "code",
        "colab": {}
      },
      "source": [
        "n = 2;\n",
        "F_const = (sciconst.physical_constants['Faraday constant'])[0]\n",
        "A = 1.131; # in cm2\n",
        "Do2 = 24e-6; # in cm2/s\n",
        "porol = 0.6;\n",
        "brugg = 1.5\n",
        "Deff = np.multiply(Do2,np.power(porol,brugg)); # in cm2/s\n",
        "c_int = 8.76e-6;# in mol/cm3\n",
        "l = 12e-4; # in cm, Cathode of 12um\n",
        "T = 300; # in K\n",
        "a = 1.4286e5; # in 1/cm\n",
        "beta = 0.5;\n",
        "k0 = 0.0020e-8; # in cm/s\n",
        "ja0 = 6.17e-4; # in A/cm2\n",
        "I_dis_lst = np.arange(0.5,10.1,0.5)"
      ],
      "execution_count": 0,
      "outputs": []
    },
    {
      "cell_type": "code",
      "metadata": {
        "id": "188w4p_eCVJE",
        "colab_type": "code",
        "outputId": "10702949-678d-4727-f727-47505376dda6",
        "colab": {
          "base_uri": "https://localhost:8080/",
          "height": 892
        }
      },
      "source": [
        "I_dis = I_dis_lst[0]\n",
        "lam  = petru_equation(n,F_const,A,Deff,c_int,l,I_dis)\n",
        "print(lam)\n",
        "\n"
      ],
      "execution_count": 0,
      "outputs": [
        {
          "output_type": "stream",
          "text": [
            "2\n",
            "96485.33289\n",
            "1.131\n",
            "1.115419203707736e-05\n",
            "8.76e-06\n",
            "0.0012\n",
            "0.5\n",
            "2\n",
            "96485.33289\n",
            "1.131\n",
            "1.115419203707736e-05\n",
            "8.76e-06\n",
            "0.0012\n",
            "0.5\n",
            "2\n",
            "96485.33289\n",
            "1.131\n",
            "1.115419203707736e-05\n",
            "8.76e-06\n",
            "0.0012\n",
            "0.5\n",
            "2\n",
            "96485.33289\n",
            "1.131\n",
            "1.115419203707736e-05\n",
            "8.76e-06\n",
            "0.0012\n",
            "0.5\n",
            "2\n",
            "96485.33289\n",
            "1.131\n",
            "1.115419203707736e-05\n",
            "8.76e-06\n",
            "0.0012\n",
            "0.5\n",
            "2\n",
            "96485.33289\n",
            "1.131\n",
            "1.115419203707736e-05\n",
            "8.76e-06\n",
            "0.0012\n",
            "0.5\n",
            "2\n",
            "96485.33289\n",
            "1.131\n",
            "1.115419203707736e-05\n",
            "8.76e-06\n",
            "0.0012\n",
            "0.5\n",
            "[-4.82379368e-05]\n"
          ],
          "name": "stdout"
        }
      ]
    },
    {
      "cell_type": "code",
      "metadata": {
        "id": "vJ8My2OZRIG0",
        "colab_type": "code",
        "colab": {}
      },
      "source": [
        "for I_dis=I_dis_lst\n",
        "    lam = petru_equation(n,F,A,Deff,c_int,l,I_dis);\n",
        "    k = Deff./(lam).^2;\n",
        "    eta_c = -Vt./n./beta.*(log(k./(k0.*a)));\n",
        "    eta_c_sinh = -Vt./n./beta.*(asinh(k./(2.*k0.*a)));\n",
        "    eta_a = -2.*Vt.*log(I_dis./ja0);\n",
        "    eta_a_sinh = -2.*Vt.*asinh(I_dis./ja0./2);\n",
        "    eta = eta_c + eta_a;\n",
        "    eta_sinh = eta_c_sinh + eta_a_sinh;\n",
        "    plot(eta,log(I_dis),'o','Color','Green','DisplayName','eta_tot_log');\n",
        "    plot(eta_sinh,log(I_dis),'-p','Color','Blue','DisplayName','eta_tot_sinh');\n",
        "    plot(eta_c,log(I_dis),'o','Color','Red','DisplayName','eta_c_log');\n",
        "    plot(eta_c_sinh,log(I_dis),'^','Color','Blue','DisplayName','eta_c_sinh');\n",
        "    plot(eta_a,log(I_dis),'o','Color','Black','DisplayName','eta_a_log');\n",
        "    plot(eta_a_sinh,log(I_dis),'v','Color','Blue','DisplayName','eta_a_sinh');\n",
        "    disp(['j_dis = ' num2str(I_dis) ' A/cm2'])\n",
        "    disp(['Ceta = ' num2str(eta_c) ' V'])\n",
        "    disp(['Ceta_sinh = ' num2str(eta_c_sinh) ' V'])\n",
        "    disp(['lambda = ' num2str(lam) ' cm'])\n",
        "    disp(['Aeta = ' num2str(eta_a) ' V'])\n",
        "    disp(['Aeta_sinh = ' num2str(eta_a_sinh) ' V'])\n",
        "    disp(['eta = ' num2str(eta) ' V'])\n",
        "    disp(['eta_sinh = ' num2str(eta_sinh) ' V'])    \n",
        "    disp(' ')\n",
        "end\n",
        "\n",
        "% hold on;plot(0:-20e-3:-0.5,(-38.922.*[0:-20e-3:-0.5]-17.291523),'--');hold off;\n",
        "j=[500,1000,1500,2500,5000].*1e-6;\n",
        "n=2.959-[2.71,2.683,2.663,2.621,2.515];\n",
        "plot(-n,log(j),'o--');\n",
        "plot(zeros(size(j)),log(j),'o--');hold off;"
      ],
      "execution_count": 0,
      "outputs": []
    }
  ]
}