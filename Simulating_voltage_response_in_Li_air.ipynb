{
  "nbformat": 4,
  "nbformat_minor": 0,
  "metadata": {
    "colab": {
      "name": "Simulating_voltage_response_in_Li-air.ipynb",
      "version": "0.3.2",
      "provenance": [],
      "collapsed_sections": [
        "GDLWJm3nXbhr",
        "ZkjFBdODdAMd",
        "GgfBWItEdD9U",
        "_Tgk_cO2Wyrr",
        "fuXyqDgcSNz2",
        "hq6TXacUUKij"
      ],
      "include_colab_link": true
    },
    "kernelspec": {
      "name": "python3",
      "display_name": "Python 3"
    }
  },
  "cells": [
    {
      "cell_type": "markdown",
      "metadata": {
        "id": "view-in-github",
        "colab_type": "text"
      },
      "source": [
        "<a href=\"https://colab.research.google.com/github/mohitmeht/Research_codes/blob/master/Simulating_voltage_response_in_Li_air.ipynb\" target=\"_parent\"><img src=\"https://colab.research.google.com/assets/colab-badge.svg\" alt=\"Open In Colab\"/></a>"
      ]
    },
    {
      "cell_type": "markdown",
      "metadata": {
        "id": "8u7CWJqPRIag",
        "colab_type": "text"
      },
      "source": [
        "Plotting polarization curve using Prof. Petru Andrei's equation as discussed in (Mehta, Bevara, and Andrei, “Maximum Theoretical Power Density of Lithium–Air Batteries with Mixed Electrolyte.”) "
      ]
    },
    {
      "cell_type": "markdown",
      "metadata": {
        "id": "GDLWJm3nXbhr",
        "colab_type": "text"
      },
      "source": [
        "## Import libraries"
      ]
    },
    {
      "cell_type": "code",
      "metadata": {
        "id": "aABkuV08Xf1e",
        "colab_type": "code",
        "colab": {}
      },
      "source": [
        "import scipy.constants as sciconst\n",
        "import numpy as np\n",
        "import matplotlib.pylab as plt\n",
        "from numba import jit,njit,vectorize\n",
        "from scipy.optimize import fsolve\n"
      ],
      "execution_count": 0,
      "outputs": []
    },
    {
      "cell_type": "markdown",
      "metadata": {
        "id": "ZkjFBdODdAMd",
        "colab_type": "text"
      },
      "source": [
        "## Compute thermal voltage"
      ]
    },
    {
      "cell_type": "code",
      "metadata": {
        "id": "5ldAFxLQYBXd",
        "colab_type": "code",
        "colab": {}
      },
      "source": [
        "@jit(parallel=True,fastmath=True)\n",
        "def thermalvoltage(T=300):\n",
        "  kb = (sciconst.physical_constants['Boltzmann constant'])[0]\n",
        "  eV = (sciconst.physical_constants['electron volt'])[0]\n",
        "  kb_div_eV = np.divide(kb,eV) \n",
        "  ThermalVoltage = np.multiply(T,kb_div_eV)\n",
        "  return ThermalVoltage"
      ],
      "execution_count": 0,
      "outputs": []
    },
    {
      "cell_type": "markdown",
      "metadata": {
        "id": "GgfBWItEdD9U",
        "colab_type": "text"
      },
      "source": [
        "## Compute $\\lambda$ from the paper\n",
        "\\begin{equation}\n",
        "\\lambda = \\tanh^{-1}\\left(\\frac{a}{b}\\right)\n",
        "\\end{equation}\n",
        "Diffusion length ($\\lambda$) is based on Petru's theory to compute the electrochemical impedance spectra in Li-air/O$_2$ batteries. \n",
        "This function return a value, lambda.\n",
        "$\\lambda^2 = \\frac{D_\\textrm{eff}}{k}$ is in cm.\n",
        "\n",
        "\\begin{equation}\n",
        "\\lambda I_F= nFAD_\\textrm{eff}c_{o_2}\\tanh\\left(\\frac{l}{\\lambda}\\right)\n",
        "\\end{equation} \n",
        "or \n",
        "\\begin{equation}\n",
        "j_F \\lambda= nFD_\\textrm{eff}c_{o_2}\\tanh\\left(\\frac{l}{\\lambda}\\right)\n",
        "\\end{equation}\n",
        "where, \n",
        "\n",
        "$n$ is the number of charge transfer electrons, \n",
        "\n",
        "$F_\\textrm{const}$ is the Faradaic constant in C/mol,\n",
        "\n",
        "$A$ is the cross sectional area of the cathode  in cm$^2$ (removed when using current density and not current),\n",
        "\n",
        "$D\\textrm{eff}$ is the effective oxygen diffusion coefficient in the organic electrolyte in cm$^2$/s,\n",
        "\n",
        "$L_c$ = Length of the cathode in cm,\n",
        "\n",
        "$j_{dis}$ is the value of the dc discharge current density in A/cm$^2$,\n",
        "\n",
        "$f$ is the function used to solve the non-linear equation using a numerical receipe to find the diffusion length ($\\lambda$),\n",
        "\n",
        "$c_\\textrm{int}$ is the inital concentration of oxygen dissolved in the electrolyte in mol/cm$^3$.\n",
        "\n",
        "The diffusion length is required to compute the voltage drop due to oxygen concentration polarization."
      ]
    },
    {
      "cell_type": "code",
      "metadata": {
        "id": "fvby6BJih6f5",
        "colab_type": "code",
        "colab": {}
      },
      "source": [
        "@jit(parallel=True,fastmath=True,target='cpu')\n",
        "def f(x,n,F,Deff,c_int,Lc,j_dis):\n",
        "  Fa_const = n*F*A*Deff*c_int\n",
        "  tanh_func = np.tanh(np.divide(Lc,x))\n",
        "  Fa = np.multiply(Fa_const,tanh_func)\n",
        "  Fb = np.multiply(j_dis,x)\n",
        "  # print(\"{}\\n{}\\n{}\\n{}\\n{}\\n{}\\n{}\".format(n,F,A,Deff,c_int,l,I_dis))\n",
        "  return np.subtract(Fa,Fb) #F = (n.*F_const.*A.*Deff.*c_int.*tanh(Lc./x))-(j_dis.*x));\n",
        "\n",
        "@jit(parallel=True,fastmath=True)\n",
        "def petru_equation(n,F,A,Deff,c_int,l,jdis):\n",
        "  x0 = np.multiply(0.1,np.ones_like(jdis))\n",
        "  lam = fsolve(func=f,x0=x0,args=(n,F,Deff,c_int,l,jdis))\n",
        "  return lam"
      ],
      "execution_count": 0,
      "outputs": []
    },
    {
      "cell_type": "markdown",
      "metadata": {
        "id": "_Tgk_cO2Wyrr",
        "colab_type": "text"
      },
      "source": [
        "## Constants\n",
        "Here all the constants and variables needed for calculation of discharge voltage are listed."
      ]
    },
    {
      "cell_type": "code",
      "metadata": {
        "id": "J-rLZERfRGa1",
        "colab_type": "code",
        "colab": {}
      },
      "source": [
        "n = 2;\n",
        "F_const = (sciconst.physical_constants['Faraday constant'])[0]\n",
        "A = 1.131; # in cm2\n",
        "Do2 = 24e-6; # in cm2/s\n",
        "porol = 0.4;\n",
        "brugg = 1.5\n",
        "Deff = np.multiply(Do2,np.power(porol,brugg)); # in cm2/s\n",
        "c_int = 8.76e-6;# in mol/cm3\n",
        "l = 0.08#12.0e-4; # in cm, Cathode of 12um\n",
        "T = 300.; # in K\n",
        "a = 1.4286e5; # in 1/cm\n",
        "beta = 0.5;\n",
        "k0 = 0.0020e-8; # in cm/s\n",
        "ja0 = 6.17e-4; # in A/cm2\n",
        "Eeq = 2.959 # in V\n",
        "jdis_lst = np.arange(0.5,10.1,0.5)*1e-3\n",
        "Vt = thermalvoltage(T)"
      ],
      "execution_count": 0,
      "outputs": []
    },
    {
      "cell_type": "markdown",
      "metadata": {
        "id": "fuXyqDgcSNz2",
        "colab_type": "text"
      },
      "source": [
        "## Computing discharge voltage\n",
        "The open circuit voltage as a result of oxygen polarization is calculated below. This formulation neglects the change in microstructural properties of the cathode such as porosity, tortuosity, and active surface area, and the voltage drop across lithium peroxide. The results from this relationship is the optimistic estimate of the OCV or the plateau voltage."
      ]
    },
    {
      "cell_type": "code",
      "metadata": {
        "id": "188w4p_eCVJE",
        "colab_type": "code",
        "colab": {}
      },
      "source": [
        "lam  = petru_equation(n,F_const,A,Deff,c_int,l,jdis_lst)\n",
        "k = np.divide(Deff,np.power(lam,2.))\n",
        "eta_c_sinh = -Vt/n/beta*np.arcsinh(k/(2.*k0*a))\n",
        "eta_a_sinh = -2.*Vt*np.arcsinh(jdis_lst/ja0/2.)\n",
        "eta_sinh = eta_a_sinh + eta_c_sinh\n",
        "V = Eeq+eta_sinh"
      ],
      "execution_count": 0,
      "outputs": []
    },
    {
      "cell_type": "markdown",
      "metadata": {
        "id": "hq6TXacUUKij",
        "colab_type": "text"
      },
      "source": [
        "## Plotting the polarization curve"
      ]
    },
    {
      "cell_type": "code",
      "metadata": {
        "id": "H_ynmC9zPYaf",
        "colab_type": "code",
        "colab": {
          "base_uri": "https://localhost:8080/",
          "height": 462
        },
        "outputId": "b8dfda99-7f23-4702-b7f5-8b388a68aa0c"
      },
      "source": [
        "fig1 = plt.figure(num=1,figsize=[3,3],facecolor=None,edgecolor=None,dpi=150)\n",
        "ax1 = fig1.add_subplot(111)\n",
        "ax1.set_facecolor('None')\n",
        "ax1.set_xlabel('$j_{dis}$ [mA/cm$^{2}$]')\n",
        "ax1.set_ylabel('Voltage [V]')  \n",
        "ax1.plot(jdis_lst*1.0e3,V,'o',color='tab:blue')\n",
        "plt.show()"
      ],
      "execution_count": 114,
      "outputs": [
        {
          "output_type": "display_data",
          "data": {
            "image/png": "[encoded data removed]",
            "text/plain": [
              "<Figure size 450x450 with 1 Axes>"
            ]
          },
          "metadata": {
            "tags": []
          }
        }
      ]
    }
  ]
}